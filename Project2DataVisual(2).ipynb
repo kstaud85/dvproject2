{
 "cells": [
  {
   "cell_type": "code",
   "execution_count": 2,
   "metadata": {},
   "outputs": [
    {
     "data": {
      "text/html": [
       "<div>\n",
       "<style>\n",
       "    .dataframe thead tr:only-child th {\n",
       "        text-align: right;\n",
       "    }\n",
       "\n",
       "    .dataframe thead th {\n",
       "        text-align: left;\n",
       "    }\n",
       "\n",
       "    .dataframe tbody tr th {\n",
       "        vertical-align: top;\n",
       "    }\n",
       "</style>\n",
       "<table border=\"1\" class=\"dataframe\">\n",
       "  <thead>\n",
       "    <tr style=\"text-align: right;\">\n",
       "      <th></th>\n",
       "      <th>School Name</th>\n",
       "      <th>School Type</th>\n",
       "      <th>Starting Median Salary</th>\n",
       "      <th>Mid-Career Median Salary</th>\n",
       "      <th>Mid-Career 10th Percentile Salary</th>\n",
       "      <th>Mid-Career 25th Percentile Salary</th>\n",
       "      <th>Mid-Career 75th Percentile Salary</th>\n",
       "      <th>Mid-Career 90th Percentile Salary</th>\n",
       "    </tr>\n",
       "  </thead>\n",
       "  <tbody>\n",
       "    <tr>\n",
       "      <th>0</th>\n",
       "      <td>Massachusetts Institute of Technology (MIT)</td>\n",
       "      <td>Engineering</td>\n",
       "      <td>$72,200.00</td>\n",
       "      <td>$126,000.00</td>\n",
       "      <td>$76,800.00</td>\n",
       "      <td>$99,200.00</td>\n",
       "      <td>$168,000.00</td>\n",
       "      <td>$220,000.00</td>\n",
       "    </tr>\n",
       "    <tr>\n",
       "      <th>1</th>\n",
       "      <td>California Institute of Technology (CIT)</td>\n",
       "      <td>Engineering</td>\n",
       "      <td>$75,500.00</td>\n",
       "      <td>$123,000.00</td>\n",
       "      <td>NaN</td>\n",
       "      <td>$104,000.00</td>\n",
       "      <td>$161,000.00</td>\n",
       "      <td>NaN</td>\n",
       "    </tr>\n",
       "    <tr>\n",
       "      <th>2</th>\n",
       "      <td>Harvey Mudd College</td>\n",
       "      <td>Engineering</td>\n",
       "      <td>$71,800.00</td>\n",
       "      <td>$122,000.00</td>\n",
       "      <td>NaN</td>\n",
       "      <td>$96,000.00</td>\n",
       "      <td>$180,000.00</td>\n",
       "      <td>NaN</td>\n",
       "    </tr>\n",
       "    <tr>\n",
       "      <th>3</th>\n",
       "      <td>Polytechnic University of New York, Brooklyn</td>\n",
       "      <td>Engineering</td>\n",
       "      <td>$62,400.00</td>\n",
       "      <td>$114,000.00</td>\n",
       "      <td>$66,800.00</td>\n",
       "      <td>$94,300.00</td>\n",
       "      <td>$143,000.00</td>\n",
       "      <td>$190,000.00</td>\n",
       "    </tr>\n",
       "    <tr>\n",
       "      <th>4</th>\n",
       "      <td>Cooper Union</td>\n",
       "      <td>Engineering</td>\n",
       "      <td>$62,200.00</td>\n",
       "      <td>$114,000.00</td>\n",
       "      <td>NaN</td>\n",
       "      <td>$80,200.00</td>\n",
       "      <td>$142,000.00</td>\n",
       "      <td>NaN</td>\n",
       "    </tr>\n",
       "  </tbody>\n",
       "</table>\n",
       "</div>"
      ],
      "text/plain": [
       "                                    School Name  School Type  \\\n",
       "0   Massachusetts Institute of Technology (MIT)  Engineering   \n",
       "1      California Institute of Technology (CIT)  Engineering   \n",
       "2                           Harvey Mudd College  Engineering   \n",
       "3  Polytechnic University of New York, Brooklyn  Engineering   \n",
       "4                                  Cooper Union  Engineering   \n",
       "\n",
       "  Starting Median Salary Mid-Career Median Salary  \\\n",
       "0             $72,200.00              $126,000.00   \n",
       "1             $75,500.00              $123,000.00   \n",
       "2             $71,800.00              $122,000.00   \n",
       "3             $62,400.00              $114,000.00   \n",
       "4             $62,200.00              $114,000.00   \n",
       "\n",
       "  Mid-Career 10th Percentile Salary Mid-Career 25th Percentile Salary  \\\n",
       "0                        $76,800.00                        $99,200.00   \n",
       "1                               NaN                       $104,000.00   \n",
       "2                               NaN                        $96,000.00   \n",
       "3                        $66,800.00                        $94,300.00   \n",
       "4                               NaN                        $80,200.00   \n",
       "\n",
       "  Mid-Career 75th Percentile Salary Mid-Career 90th Percentile Salary  \n",
       "0                       $168,000.00                       $220,000.00  \n",
       "1                       $161,000.00                               NaN  \n",
       "2                       $180,000.00                               NaN  \n",
       "3                       $143,000.00                       $190,000.00  \n",
       "4                       $142,000.00                               NaN  "
      ]
     },
     "execution_count": 2,
     "metadata": {},
     "output_type": "execute_result"
    }
   ],
   "source": [
    "# To begin, import the following: pandas, seaborn, regex,and matplotlib\n",
    "# To ignore warnings, use the following code to make the display more attractive.\n",
    "import pandas as pd\n",
    "import numpy as np\n",
    "import re\n",
    "import warnings\n",
    "warnings.filterwarnings(\"ignore\")\n",
    "import seaborn as sns\n",
    "import matplotlib.pyplot as plt\n",
    "sns.set(style=\"white\", color_codes=True)\n",
    "\n",
    "#To import the college salary dataset:\n",
    "college = pd.read_csv('college-type.csv',  encoding='latin-1')\n",
    "#To view income data:\n",
    "college.head()\n",
    "\n"
   ]
  },
  {
   "cell_type": "code",
   "execution_count": 3,
   "metadata": {},
   "outputs": [
    {
     "data": {
      "text/plain": [
       "pandas.core.frame.DataFrame"
      ]
     },
     "execution_count": 3,
     "metadata": {},
     "output_type": "execute_result"
    }
   ],
   "source": [
    "#check the type of data we have\n",
    "type(college)\n",
    "\n"
   ]
  },
  {
   "cell_type": "code",
   "execution_count": 5,
   "metadata": {},
   "outputs": [
    {
     "data": {
      "text/plain": [
       "School Name                          False\n",
       "School Type                          False\n",
       "Starting Median Salary               False\n",
       "Mid-Career Median Salary             False\n",
       "Mid-Career 10th Percentile Salary     True\n",
       "Mid-Career 25th Percentile Salary    False\n",
       "Mid-Career 75th Percentile Salary    False\n",
       "Mid-Career 90th Percentile Salary     True\n",
       "dtype: bool"
      ]
     },
     "execution_count": 5,
     "metadata": {},
     "output_type": "execute_result"
    }
   ],
   "source": [
    "#To check for any missing values\n",
    "college.isnull().any()\n",
    "\n"
   ]
  },
  {
   "cell_type": "code",
   "execution_count": 6,
   "metadata": {},
   "outputs": [
    {
     "data": {
      "text/html": [
       "<div>\n",
       "<style>\n",
       "    .dataframe thead tr:only-child th {\n",
       "        text-align: right;\n",
       "    }\n",
       "\n",
       "    .dataframe thead th {\n",
       "        text-align: left;\n",
       "    }\n",
       "\n",
       "    .dataframe tbody tr th {\n",
       "        vertical-align: top;\n",
       "    }\n",
       "</style>\n",
       "<table border=\"1\" class=\"dataframe\">\n",
       "  <thead>\n",
       "    <tr style=\"text-align: right;\">\n",
       "      <th></th>\n",
       "      <th>School Name</th>\n",
       "      <th>School Type</th>\n",
       "      <th>Starting Median Salary</th>\n",
       "      <th>Mid-Career Median Salary</th>\n",
       "      <th>Mid-Career 10th Percentile Salary</th>\n",
       "      <th>Mid-Career 25th Percentile Salary</th>\n",
       "      <th>Mid-Career 75th Percentile Salary</th>\n",
       "      <th>Mid-Career 90th Percentile Salary</th>\n",
       "    </tr>\n",
       "  </thead>\n",
       "  <tbody>\n",
       "    <tr>\n",
       "      <th>0</th>\n",
       "      <td>Massachusetts Institute of Technology (MIT)</td>\n",
       "      <td>Engineering</td>\n",
       "      <td>$72,200.00</td>\n",
       "      <td>$126,000.00</td>\n",
       "      <td>$76,800.00</td>\n",
       "      <td>$99,200.00</td>\n",
       "      <td>$168,000.00</td>\n",
       "      <td>$220,000.00</td>\n",
       "    </tr>\n",
       "    <tr>\n",
       "      <th>1</th>\n",
       "      <td>Polytechnic University of New York, Brooklyn</td>\n",
       "      <td>Engineering</td>\n",
       "      <td>$62,400.00</td>\n",
       "      <td>$114,000.00</td>\n",
       "      <td>$66,800.00</td>\n",
       "      <td>$94,300.00</td>\n",
       "      <td>$143,000.00</td>\n",
       "      <td>$190,000.00</td>\n",
       "    </tr>\n",
       "    <tr>\n",
       "      <th>2</th>\n",
       "      <td>Worcester Polytechnic Institute (WPI)</td>\n",
       "      <td>Engineering</td>\n",
       "      <td>$61,000.00</td>\n",
       "      <td>$114,000.00</td>\n",
       "      <td>$80,000.00</td>\n",
       "      <td>$91,200.00</td>\n",
       "      <td>$137,000.00</td>\n",
       "      <td>$180,000.00</td>\n",
       "    </tr>\n",
       "    <tr>\n",
       "      <th>3</th>\n",
       "      <td>Carnegie Mellon University (CMU)</td>\n",
       "      <td>Engineering</td>\n",
       "      <td>$61,800.00</td>\n",
       "      <td>$111,000.00</td>\n",
       "      <td>$63,300.00</td>\n",
       "      <td>$80,100.00</td>\n",
       "      <td>$150,000.00</td>\n",
       "      <td>$209,000.00</td>\n",
       "    </tr>\n",
       "    <tr>\n",
       "      <th>4</th>\n",
       "      <td>Rensselaer Polytechnic Institute (RPI)</td>\n",
       "      <td>Engineering</td>\n",
       "      <td>$61,100.00</td>\n",
       "      <td>$110,000.00</td>\n",
       "      <td>$71,600.00</td>\n",
       "      <td>$85,500.00</td>\n",
       "      <td>$140,000.00</td>\n",
       "      <td>$182,000.00</td>\n",
       "    </tr>\n",
       "  </tbody>\n",
       "</table>\n",
       "</div>"
      ],
      "text/plain": [
       "                                    School Name  School Type  \\\n",
       "0   Massachusetts Institute of Technology (MIT)  Engineering   \n",
       "1  Polytechnic University of New York, Brooklyn  Engineering   \n",
       "2         Worcester Polytechnic Institute (WPI)  Engineering   \n",
       "3              Carnegie Mellon University (CMU)  Engineering   \n",
       "4        Rensselaer Polytechnic Institute (RPI)  Engineering   \n",
       "\n",
       "  Starting Median Salary Mid-Career Median Salary  \\\n",
       "0             $72,200.00              $126,000.00   \n",
       "1             $62,400.00              $114,000.00   \n",
       "2             $61,000.00              $114,000.00   \n",
       "3             $61,800.00              $111,000.00   \n",
       "4             $61,100.00              $110,000.00   \n",
       "\n",
       "  Mid-Career 10th Percentile Salary Mid-Career 25th Percentile Salary  \\\n",
       "0                        $76,800.00                        $99,200.00   \n",
       "1                        $66,800.00                        $94,300.00   \n",
       "2                        $80,000.00                        $91,200.00   \n",
       "3                        $63,300.00                        $80,100.00   \n",
       "4                        $71,600.00                        $85,500.00   \n",
       "\n",
       "  Mid-Career 75th Percentile Salary Mid-Career 90th Percentile Salary  \n",
       "0                       $168,000.00                       $220,000.00  \n",
       "1                       $143,000.00                       $190,000.00  \n",
       "2                       $137,000.00                       $180,000.00  \n",
       "3                       $150,000.00                       $209,000.00  \n",
       "4                       $140,000.00                       $182,000.00  "
      ]
     },
     "execution_count": 6,
     "metadata": {},
     "output_type": "execute_result"
    }
   ],
   "source": [
    "#Some values are missing\n",
    "#drop the values columns that have missing data \n",
    "college.dropna(inplace=True)\n",
    "college.reset_index(inplace=True, drop=True)\n",
    "college.head()"
   ]
  },
  {
   "cell_type": "code",
   "execution_count": 7,
   "metadata": {},
   "outputs": [
    {
     "data": {
      "text/plain": [
       "School Name                          False\n",
       "School Type                          False\n",
       "Starting Median Salary               False\n",
       "Mid-Career Median Salary             False\n",
       "Mid-Career 10th Percentile Salary    False\n",
       "Mid-Career 25th Percentile Salary    False\n",
       "Mid-Career 75th Percentile Salary    False\n",
       "Mid-Career 90th Percentile Salary    False\n",
       "dtype: bool"
      ]
     },
     "execution_count": 7,
     "metadata": {},
     "output_type": "execute_result"
    }
   ],
   "source": [
    "#Check again for missing values\n",
    "college.isnull().any()"
   ]
  },
  {
   "cell_type": "code",
   "execution_count": 8,
   "metadata": {
    "collapsed": true
   },
   "outputs": [],
   "source": [
    "#Change strings to floats using str.replace\n",
    "#Only replace strings in columns that are numeric (will not work eitherwise)\n",
    "for x in college.columns:\n",
    "    if x != 'School Name' and x != 'School Type':\n",
    "        new_col = college[x].str.replace(\"$\", \"\")\n",
    "        new_col  = new_col .str.replace(\",\", \"\")\n",
    "        college[x] = pd.to_numeric(new_col )"
   ]
  },
  {
   "cell_type": "code",
   "execution_count": 9,
   "metadata": {},
   "outputs": [
    {
     "data": {
      "text/html": [
       "<div>\n",
       "<style>\n",
       "    .dataframe thead tr:only-child th {\n",
       "        text-align: right;\n",
       "    }\n",
       "\n",
       "    .dataframe thead th {\n",
       "        text-align: left;\n",
       "    }\n",
       "\n",
       "    .dataframe tbody tr th {\n",
       "        vertical-align: top;\n",
       "    }\n",
       "</style>\n",
       "<table border=\"1\" class=\"dataframe\">\n",
       "  <thead>\n",
       "    <tr style=\"text-align: right;\">\n",
       "      <th></th>\n",
       "      <th>School Name</th>\n",
       "      <th>School Type</th>\n",
       "      <th>Starting Median Salary</th>\n",
       "      <th>Mid-Career Median Salary</th>\n",
       "      <th>Mid-Career 10th Percentile Salary</th>\n",
       "      <th>Mid-Career 25th Percentile Salary</th>\n",
       "      <th>Mid-Career 75th Percentile Salary</th>\n",
       "      <th>Mid-Career 90th Percentile Salary</th>\n",
       "    </tr>\n",
       "  </thead>\n",
       "  <tbody>\n",
       "    <tr>\n",
       "      <th>0</th>\n",
       "      <td>Massachusetts Institute of Technology (MIT)</td>\n",
       "      <td>Engineering</td>\n",
       "      <td>72200.0</td>\n",
       "      <td>126000.0</td>\n",
       "      <td>76800.0</td>\n",
       "      <td>99200.0</td>\n",
       "      <td>168000.0</td>\n",
       "      <td>220000.0</td>\n",
       "    </tr>\n",
       "    <tr>\n",
       "      <th>1</th>\n",
       "      <td>Polytechnic University of New York, Brooklyn</td>\n",
       "      <td>Engineering</td>\n",
       "      <td>62400.0</td>\n",
       "      <td>114000.0</td>\n",
       "      <td>66800.0</td>\n",
       "      <td>94300.0</td>\n",
       "      <td>143000.0</td>\n",
       "      <td>190000.0</td>\n",
       "    </tr>\n",
       "    <tr>\n",
       "      <th>2</th>\n",
       "      <td>Worcester Polytechnic Institute (WPI)</td>\n",
       "      <td>Engineering</td>\n",
       "      <td>61000.0</td>\n",
       "      <td>114000.0</td>\n",
       "      <td>80000.0</td>\n",
       "      <td>91200.0</td>\n",
       "      <td>137000.0</td>\n",
       "      <td>180000.0</td>\n",
       "    </tr>\n",
       "    <tr>\n",
       "      <th>3</th>\n",
       "      <td>Carnegie Mellon University (CMU)</td>\n",
       "      <td>Engineering</td>\n",
       "      <td>61800.0</td>\n",
       "      <td>111000.0</td>\n",
       "      <td>63300.0</td>\n",
       "      <td>80100.0</td>\n",
       "      <td>150000.0</td>\n",
       "      <td>209000.0</td>\n",
       "    </tr>\n",
       "    <tr>\n",
       "      <th>4</th>\n",
       "      <td>Rensselaer Polytechnic Institute (RPI)</td>\n",
       "      <td>Engineering</td>\n",
       "      <td>61100.0</td>\n",
       "      <td>110000.0</td>\n",
       "      <td>71600.0</td>\n",
       "      <td>85500.0</td>\n",
       "      <td>140000.0</td>\n",
       "      <td>182000.0</td>\n",
       "    </tr>\n",
       "  </tbody>\n",
       "</table>\n",
       "</div>"
      ],
      "text/plain": [
       "                                    School Name  School Type  \\\n",
       "0   Massachusetts Institute of Technology (MIT)  Engineering   \n",
       "1  Polytechnic University of New York, Brooklyn  Engineering   \n",
       "2         Worcester Polytechnic Institute (WPI)  Engineering   \n",
       "3              Carnegie Mellon University (CMU)  Engineering   \n",
       "4        Rensselaer Polytechnic Institute (RPI)  Engineering   \n",
       "\n",
       "   Starting Median Salary  Mid-Career Median Salary  \\\n",
       "0                 72200.0                  126000.0   \n",
       "1                 62400.0                  114000.0   \n",
       "2                 61000.0                  114000.0   \n",
       "3                 61800.0                  111000.0   \n",
       "4                 61100.0                  110000.0   \n",
       "\n",
       "   Mid-Career 10th Percentile Salary  Mid-Career 25th Percentile Salary  \\\n",
       "0                            76800.0                            99200.0   \n",
       "1                            66800.0                            94300.0   \n",
       "2                            80000.0                            91200.0   \n",
       "3                            63300.0                            80100.0   \n",
       "4                            71600.0                            85500.0   \n",
       "\n",
       "   Mid-Career 75th Percentile Salary  Mid-Career 90th Percentile Salary  \n",
       "0                           168000.0                           220000.0  \n",
       "1                           143000.0                           190000.0  \n",
       "2                           137000.0                           180000.0  \n",
       "3                           150000.0                           209000.0  \n",
       "4                           140000.0                           182000.0  "
      ]
     },
     "execution_count": 9,
     "metadata": {},
     "output_type": "execute_result"
    }
   ],
   "source": [
    "#Now that that the data is clean, we can begin to graph\n",
    "college.head()"
   ]
  },
  {
   "cell_type": "code",
   "execution_count": 10,
   "metadata": {},
   "outputs": [
    {
     "data": {
      "text/plain": [
       "State           175\n",
       "Party            19\n",
       "Engineering      15\n",
       "Liberal Arts     14\n",
       "Ivy League        8\n",
       "Name: School Type, dtype: int64"
      ]
     },
     "execution_count": 10,
     "metadata": {},
     "output_type": "execute_result"
    }
   ],
   "source": [
    "#Looks like the data is clean.\n",
    "#To view the number of schools by type:\n",
    "college[\"School Type\"].value_counts()"
   ]
  },
  {
   "cell_type": "code",
   "execution_count": 24,
   "metadata": {},
   "outputs": [
    {
     "data": {
      "image/png": "[encoded data removed]",
      "text/plain": [
       "<matplotlib.figure.Figure at 0x1c4ec40f278>"
      ]
     },
     "metadata": {},
     "output_type": "display_data"
    }
   ],
   "source": [
    "# A seaborn plot that plots univariate or bivariate density estimates is kdeplot.\n",
    "#Plot school type by Starting Median Salary\n",
    "sns.FacetGrid(college, hue=\"School Type\", size=5) \\\n",
    "   .map(sns.kdeplot, \"Starting Median Salary\") \\\n",
    "   .add_legend()\n",
    "plt.show()"
   ]
  },
  {
   "cell_type": "code",
   "execution_count": 25,
   "metadata": {},
   "outputs": [
    {
     "data": {
      "image/png": "[encoded data removed]",
      "text/plain": [
       "<matplotlib.figure.Figure at 0x1c4ec481898>"
      ]
     },
     "metadata": {},
     "output_type": "display_data"
    }
   ],
   "source": [
    "#Use a heatmap to view the correlation between variables in the dataset.\n",
    "\n",
    "corr = college.corr()\n",
    "corr = (corr)\n",
    "sns.heatmap(corr, \n",
    "            xticklabels=corr.columns.values,\n",
    "            yticklabels=corr.columns.values,cmap=\"YlGnBu\")\n",
    "        \n",
    "plt.show()"
   ]
  },
  {
   "cell_type": "code",
   "execution_count": 26,
   "metadata": {},
   "outputs": [
    {
     "data": {
      "image/png": "[encoded data removed]",
      "text/plain": [
       "<matplotlib.figure.Figure at 0x1c4ec437198>"
      ]
     },
     "metadata": {},
     "output_type": "display_data"
    }
   ],
   "source": [
    "#A bar plot of the average Mid-Career Salary by school type\n",
    "#Note: It is best not to take the average of a median if there are outliers \n",
    "objects = ('Engineering', 'Party',' Liberal Arts' ,'Ivy League','State')\n",
    "y_pos = np.arange(len(objects))\n",
    "performance = [103842,84685,89379,120125,78567]\n",
    " \n",
    "plt.bar(y_pos, performance, align='center', alpha=0.5,  color='r')\n",
    "plt.xticks(y_pos, objects, rotation='70')\n",
    "plt.ylabel('Average')\n",
    "plt.title('Average Mid-Career Salary by School Type')\n",
    " \n",
    "plt.show()"
   ]
  },
  {
   "cell_type": "code",
   "execution_count": 27,
   "metadata": {},
   "outputs": [
    {
     "name": "stderr",
     "output_type": "stream",
     "text": [
      "C:\\Users\\Patti\\Anaconda3\\lib\\site-packages\\bokeh\\util\\deprecation.py:34: BokehDeprecationWarning: \n",
      "The bokeh.charts API has moved to a separate 'bkcharts' package.\n",
      "\n",
      "This compatibility shim will remain until Bokeh 1.0 is released.\n",
      "After that, if you want to use this API you will have to install\n",
      "the bkcharts package explicitly.\n",
      "\n",
      "  warn(message)\n",
      "E-1010 (CDSVIEW_SOURCE_DOESNT_MATCH): CDSView used by Glyph renderer must have a source that matches the Glyph renderer's data source: GlyphRenderer(id='bc6b98a9-d155-4bdd-8c3d-ef95b9e6391c', ...)\n"
     ]
    }
   ],
   "source": [
    "#Use the visualization package bokeh to create a scatter plot that has an html output\n",
    "#For image of chart, see bokeh_plot\n",
    "from bokeh.charts import Scatter, output_file, show\n",
    "\n",
    "p = Scatter(college, x='School Type', y='Starting Median Salary', color='darkmagenta', title=\"Starting Median Salary vs School Type\",\n",
    "            xlabel=\"School Type\", ylabel=\"Starting Median Salary\")\n",
    "\n",
    "output_file(\"college.html\")\n",
    "\n",
    "show(p)"
   ]
  }
 ],
 "metadata": {
  "kernelspec": {
   "display_name": "Python 3",
   "language": "python",
   "name": "python3"
  },
  "language_info": {
   "codemirror_mode": {
    "name": "ipython",
    "version": 3
   },
   "file_extension": ".py",
   "mimetype": "text/x-python",
   "name": "python",
   "nbconvert_exporter": "python",
   "pygments_lexer": "ipython3",
   "version": "3.6.2"
  }
 },
 "nbformat": 4,
 "nbformat_minor": 2
}
